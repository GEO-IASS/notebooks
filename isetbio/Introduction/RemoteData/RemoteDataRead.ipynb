{
 "cells": [
  {
   "cell_type": "markdown",
   "metadata": {},
   "source": [
    "### The remote database client\n",
    "\n",
    "We store various files on a remote database, and we have written a Matlab client to make it easy to download files from that database.\n",
    "\n",
    "As an example, to speed our computational testing we pre-computed certain stimuli and stored them remotely. Rather than recomputing them, we simply download them.\n",
    "\n",
    "The Remote Data Toolbox (RDT) client is included in this ISETBIO-HUB, and it is available from the ISETBIO github repository.  This notebook contains an example of how to download the pre-computed cone absorptions from a moving bar stimulus.\n"
   ]
  },
  {
   "cell_type": "code",
   "execution_count": 1,
   "metadata": {
    "collapsed": false
   },
   "outputs": [
    {
     "name": "stdout",
     "output_type": "stream",
     "text": [
      "-- Artifacts in Remote Path [ /resources/data/istim/ ]---\n",
      "\n",
      "\n",
      "***\n",
      "4 artifacts \n",
      "***\n",
      "              ID              Type            RemPath        \n",
      "    ______________________    _____    ______________________\n",
      "\n",
      "    'barMovie'                'mat'    'resources/data/istim'\n",
      "    'gaborMovie'              'mat'    'resources/data/istim'\n",
      "    'iStim_NSEM_800fr'        'mat'    'resources/data/istim'\n",
      "    'iStim_subunitGrating'    'mat'    'resources/data/istim'\n"
     ]
    }
   ],
   "source": [
    "% The remote data client is created by this call\n",
    "rd = RdtClient('isetbio');\n",
    "\n",
    "% The remote data for different types of stimuli are stored in this remote path.\n",
    "rd.crp('/resources/data/istim');\n",
    "\n",
    "% This is a list of the files that are stored there\n",
    "data = rd.listArtifacts('print',true);"
   ]
  },
  {
   "cell_type": "code",
   "execution_count": 3,
   "metadata": {
    "collapsed": false
   },
   "outputs": [
    {
     "name": "stdout",
     "output_type": "stream",
     "text": [
      "iStim: [1x1 struct]\n",
      "\n",
      "         params: [1x1 struct]\n",
      "        display: [1x1 struct]\n",
      "          scene: [1x1 struct]\n",
      "       sceneRGB: [4-D double]\n",
      "             oi: [1x1 struct]\n",
      "    absorptions: [1x1 struct]\n"
     ]
    }
   ],
   "source": [
    "% To read one of the precomputed files, you use this function\n",
    "data = rd.readArtifact('barMovie');\n",
    "\n",
    "% The data stored remotely are in a variable called iStim \n",
    "disp(data)\n",
    "\n",
    "% That variable contains all the information needed to recreate the stimulus\n",
    "disp(data.iStim)\n"
   ]
  },
  {
   "cell_type": "code",
   "execution_count": 8,
   "metadata": {
    "collapsed": false
   },
   "outputs": [
    {
     "data": {
      "image/png": "[encoded data removed]",
      "text/plain": [
       "<IPython.core.display.Image object>"
      ]
     },
     "metadata": {},
     "output_type": "display_data"
    }
   ],
   "source": [
    "% Now, we show several frames of the absorption movie\n",
    "\n",
    "% First, we read the cone absorption data\n",
    "absorptions = data.iStim.absorptions;\n",
    "d = sensorGet(absorptions,'photons');\n",
    "\n",
    "% Select a few frames and show them.  Notice that the bar moves.\n",
    "frames = [10 30 50];\n",
    "for ii=1:3\n",
    "  subplot(1,3,ii)\n",
    "  imagesc(d(:,:,frames(ii))); colormap(gray); \n",
    "  title(sprintf('Frame %d',frames(ii)))\n",
    "  axis image; set(gca,'fontsize',6)\n",
    "end"
   ]
  },
  {
   "cell_type": "code",
   "execution_count": null,
   "metadata": {
    "collapsed": true
   },
   "outputs": [],
   "source": []
  }
 ],
 "metadata": {
  "kernelspec": {
   "display_name": "Matlab",
   "language": "matlab",
   "name": "matlab"
  },
  "language_info": {
   "codemirror_mode": "octave",
   "file_extension": ".m",
   "help_links": [
    {
     "text": "MetaKernel Magics",
     "url": "https://github.com/calysto/metakernel/blob/master/metakernel/magics/README.md"
    }
   ],
   "mimetype": "text/x-octave",
   "name": "matlab",
   "version": "0.10.1"
  }
 },
 "nbformat": 4,
 "nbformat_minor": 0
}
