{
 "cells": [
  {
   "cell_type": "code",
   "execution_count": null,
   "metadata": {
    "collapsed": false
   },
   "outputs": [],
   "source": [
    "\n",
    "results = tbAddToolbox('name', 'HLColorOpponentGabor', 'url', ...\n",
    "   'https://github.com/isetbio/HLColorOpponentGabor.git')"
   ]
  },
  {
   "cell_type": "code",
   "execution_count": 3,
   "metadata": {
    "collapsed": false
   },
   "outputs": [
    {
     "name": "stdout",
     "output_type": "stream",
     "text": [
      "t_colorOpponentGabor\n",
      " \n",
      "  Model cone responses for the experiment on detection of Gabor color\n",
      "  opponent stimuli in \n",
      " \n",
      "   Chromatic detection from cone photoreceptors to V1 neurons to behavior\n",
      "   in rhesus monkeys\n",
      "    Horwitz, Hass, Angueyra, Lindbloom-Brown & Rieke,\n",
      "    J. Neuroscience, 2015 (submitted)\n",
      " \n",
      "  Script outline:\n",
      "      1. Build scene as a color-opponent Gabor patch with Horwitz Lab\n",
      "          display and imageHarmonicColor (to integrate with\n",
      "          imageHarmonicColor). \n",
      "      2. Build oi and sensor with specified properties from paper (pupil\n",
      "          width, macular density, eccentricity, etc.).\n",
      "      3. Create a dynamic scene by altering the Gabor phase and\n",
      "          regenerating the scene and recomputing the oi and sensor.\n",
      "      4. Build the outer segment object with linear filters and compute its\n",
      "          response with the dynamic sensor structure.\n",
      "      5. Compute the response across each cone type.  For each noise\n",
      "          iteration (a) project the time series of each cone onto the\n",
      "          expected mean time series, (b) take that mean value for each cone\n",
      "          type to give the mean on that particular noise iteration. The\n",
      "          projection step eliminates signals that are orthogonal to the\n",
      "          expected linear temporal response.  The expected response is\n",
      "          derived by running the simulation with the noise flag set to 0\n",
      "          (photon noise only). This calculation produces an (L, M, S)\n",
      "          triplet for each noise iteration.  This is a specific\n",
      "          implementation of an ideal observer; see the paper for details.\n",
      "      6. This process is first done for zero contrast with no Gabor\n",
      "          present, and repeated for a range of contrasts specified in the\n",
      "          contrastArr variable. The pooled response for the cone array at\n",
      "          each contrast level is compared to the pooled response for no\n",
      "          Gabor present using a linear SVM, and the cross-validated\n",
      "          accuracy of the linear SVM is calculated.\n",
      "       7. The accuracy is plotted as a function of the contrast, and a\n",
      "          psychometric function of the form\n",
      " \n",
      "                p = 1 - 0.5*exp(-(x/alpha)^beta)\n",
      " \n",
      "          is fit to the curve, where alpha is the threshold for detection\n",
      "          and beta is the slope of the curve.\n",
      " \n",
      "  JRG/NC/BW ISETBIO Team, Copyright 2015\n"
     ]
    }
   ],
   "source": [
    "help t_colorGaborDetection"
   ]
  },
  {
   "cell_type": "code",
   "execution_count": null,
   "metadata": {
    "collapsed": true
   },
   "outputs": [],
   "source": [
    "setToolboxPath('toolboxRoot','~/usr/local/MATLAB/toolboxes')"
   ]
  },
  {
   "cell_type": "code",
   "execution_count": null,
   "metadata": {
    "collapsed": false
   },
   "outputs": [],
   "source": [
    "t_colorGaborDetection"
   ]
  },
  {
   "cell_type": "code",
   "execution_count": 5,
   "metadata": {
    "collapsed": false
   },
   "outputs": [
    {
     "name": "stdout",
     "output_type": "stream",
     "text": [
      "Adding toolbox paths:\n",
      "CRT-Sony-HorwitzLab.mat     pooledConeResponse.m\n",
      "README.md\t\t    rgbGaborColorOpponentNormalized.m\n",
      "imageHarmonicColor.m\t    sceneHarmonicColor.m\n",
      "paramsGaborColorOpponent.m  tutorials\n",
      "\n",
      "\n",
      "ans =\n",
      "\n",
      "~/usr/local/MATLAB/toolboxes\n"
     ]
    }
   ],
   "source": []
  }
 ],
 "metadata": {
  "kernelspec": {
   "display_name": "Matlab",
   "language": "matlab",
   "name": "matlab"
  },
  "language_info": {
   "codemirror_mode": "octave",
   "file_extension": ".m",
   "help_links": [
    {
     "text": "MetaKernel Magics",
     "url": "https://github.com/calysto/metakernel/blob/master/metakernel/magics/README.md"
    }
   ],
   "mimetype": "text/x-octave",
   "name": "matlab",
   "version": "0.10.1"
  }
 },
 "nbformat": 4,
 "nbformat_minor": 0
}
