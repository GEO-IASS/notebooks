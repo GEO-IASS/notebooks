{
 "cells": [
  {
   "cell_type": "markdown",
   "metadata": {},
   "source": [
    "## RGC-00\n",
    "A comparison of RGC firing from experimental recordings, \"black box\" GLM\n",
    "simulations and \"cascade model\" GLM (cone->bipolar->RGC) simulations. The experimental\n",
    "recordings and the black box simulations are found in Brackbill, Heitman,\n",
    "..., Chichilnisky, J. Neurophys 2016. \n",
    "\n",
    "This demonstrates that the linear cascade model matches the output of the\n",
    "black box model. The cascade model allows us to turn on nonlinearities in\n",
    "the outer segment current computation as well as spatial bipolar\n",
    "subunits. We can quantify whether these nonlinearities improve the\n",
    "prediction of the firing in response to natural scene movies and compare\n",
    "them with the experimental recordings.\n"
   ]
  },
  {
   "cell_type": "code",
   "execution_count": 1,
   "metadata": {
    "collapsed": true
   },
   "outputs": [],
   "source": [
    "%% Switch on input type\n",
    "% White noise (WN) or natural scenes with eye movements (NSEM)\n",
    "\n",
    "experimentI   = 1;       % Choose dataset to load parameters and spikes\n",
    "cellTypeI     = 1;%:2    % Choose On Parasol (1) or Off Parasol (2)\n",
    "stimulusTestI = 2;%:2     % Choose WN test stimulus (1) or NSEM test stimulus (2)\n",
    "    \n",
    "% Switch on the conditions indices\n",
    "% Experimental dataset\n",
    "switch experimentI\n",
    "    case 1; experimentID = '2013-08-19-6';\n",
    "    otherwise; error('Data not yet available');\n",
    "end\n",
    "% The other experimental data will be added to the RDT in the future.\n",
    "\n",
    "% Stimulus: white noise or natural scene movie with eye movements\n",
    "switch stimulusTestI\n",
    "    case 1; stimulusTest = 'WN';\n",
    "    case 2; stimulusTest = 'NSEM';\n",
    "end\n",
    "\n",
    "% Cell type: ON or OFF Parasol\n",
    "switch cellTypeI\n",
    "    case 1; cellType = 'On Parasol';\n",
    "    case 2; cellType = 'Off Parasol';\n",
    "end"
   ]
  },
  {
   "cell_type": "code",
   "execution_count": 15,
   "metadata": {
    "collapsed": false
   },
   "outputs": [],
   "source": [
    "%% Load stimulus movie and fit/spiking data using RemoteDataToolbox\n",
    "\n",
    "% Loads the appropriate movie and spiking data for the experimental\n",
    "% conditions.\n",
    "[testmovie, xval_mosaic] =  loadDataRGCFigure2(experimentI,stimulusTestI,cellTypeI);\n",
    "\n",
    "\n",
    "% Length of WN movie is 1200, take nFrames to limit natural movie to same length\n",
    "nFrames = 1200; \n",
    "testmovieshort = double(testmovie.matrix(:,:,1:nFrames)); \n"
   ]
  },
  {
   "cell_type": "code",
   "execution_count": 16,
   "metadata": {
    "collapsed": false
   },
   "outputs": [],
   "source": [
    "%% Upsample movie stimulus for os computation    \n",
    "frRS = 8;\n",
    "testmovieRS = zeros(size(testmovieshort,1),size(testmovieshort,2),frRS*size(testmovieshort,3));\n",
    "for frnum = 1:nFrames\n",
    "    for frrep = 1:frRS\n",
    "        testmovieRS(:,:,(frnum-1)*frRS+frrep) = testmovieshort(:,:,frnum);\n",
    "    end\n",
    "end"
   ]
  },
  {
   "cell_type": "code",
   "execution_count": 19,
   "metadata": {
    "collapsed": false
   },
   "outputs": [
    {
     "name": "stdout",
     "output_type": "stream",
     "text": [
      "Computing cone isomerization:    \n",
      "[vcReadImage] Assuming 8bit image and 10 bit LUT\n"
     ]
    }
   ],
   "source": [
    "%% Generate display, scene, oi, sensor\n",
    "paramsStim.nsteps = 1;%nFrames;%size(testmovieshort,3);\n",
    "%  Bipolar filter is setfor 0.001 sec, so it needs to be 0.001\n",
    "paramsStim.timeInterval = 1/125;%0.001; % sec\n",
    "paramsStim.expTime = 1/125;%0.001; % sec\n",
    "\n",
    "% % For 2013-08-19-6\n",
    "% r = 12 mm = 36 degs;\n",
    "% theta = 330 degs;\n",
    "% side = 'left';\n",
    "paramsStim.fov = 8;\n",
    "paramsStim.radius = 36/3;\n",
    "paramsStim.theta = 330;\n",
    "paramsStim.side = 'left';\n",
    "\n",
    "% iStim = ieStimulusMovie(testmovieshort(:,:,1:nFrames),paramsStim);\n",
    "iStim = ieStimulusMovie(testmovieshort(:,:,1:nFrames),paramsStim);\n",
    "sensor = iStim.sensor;\n",
    "\n",
    "sensor.data.volts = 5e-4*double(testmovieshort)./255;\n",
    "% sensor.data.volts = 5e-4*testmovieRS./max(testmovieRS(:));\n",
    "sensor = sensorSet(sensor, 'cone type',3*ones([size(testmovieshort,1) size(testmovieshort,2)]));\n",
    "\n",
    "clear testmovieRS % testmovieshort"
   ]
  },
  {
   "cell_type": "code",
   "execution_count": 20,
   "metadata": {
    "collapsed": false
   },
   "outputs": [
    {
     "name": "stdout",
     "output_type": "stream",
     "text": [
      "[\bWarning: The input is a sensor, should update to use coneMosaic.]\b \n",
      "[\b> In osLinear/osCompute (line 23)\n",
      "  In pymat_eval (line 31)\n",
      "  In matlabserver (line 24)]\b\n"
     ]
    }
   ],
   "source": [
    "%% Outer segment calculation - linear model\n",
    "% The iStim structure generates the movie, the scene, the oi and the\n",
    "% cone absorptions. The next step is to get the outer segment current. The\n",
    "% linear outer segment model is employed here.\n",
    "\n",
    "% Initialize\n",
    "osL = osCreate('linear');\n",
    "% osL = osSet(osL,'sConeFilter',1);\n",
    "\n",
    "% Set size of retinal patch based on absorptions sensor object\n",
    "patchSize = sensorGet(sensor,'width','m');\n",
    "osL = osSet(osL, 'patch size', patchSize);\n",
    "\n",
    "% Set time step of simulation equal to absorptions sensor object\n",
    "timeStep = sensorGet(sensor,'time interval','sec');\n",
    "osL = osSet(osL, 'time step', timeStep);\n",
    "\n",
    "% Set circular convolution, only steady state\n",
    "paramsOSL.convolutionType = 1; \n",
    "paramsOSL.ecc = 11; % mm\n",
    "paramsOSL.singleType = 1;\n",
    "osLSub = osL;\n",
    "\n",
    "% Compute the outer segment response to the absorptions with the linear\n",
    "% model.\n",
    "osL = osCompute(osL,sensor,paramsOSL);"
   ]
  },
  {
   "cell_type": "code",
   "execution_count": 21,
   "metadata": {
    "collapsed": false
   },
   "outputs": [],
   "source": [
    "%% Find bipolar responses\n",
    "\n",
    "os = osLSub;\n",
    "\n",
    "\n",
    "bpParams.cellType = 'offDiffuse';\n",
    "% sets filter as theoretical, mean physiology, or individual phys:\n",
    "bpParams.filterType = 1; \n",
    "% sets linear, on half-wave rectification, or on and off half-wave rect\n",
    "bpParams.rectifyType = 1;\n",
    "% bpParams.rectifyType = 3;\n",
    "\n",
    "% bpParams.cellLocation = cellNumber;\n",
    "\n",
    "bp = bipolar(os, bpParams);\n",
    "bp.bipolarSet('sRFcenter',1);\n",
    "bp.bipolarSet('sRFcenter',1);\n",
    "% bp.bipolarSet('sRFcenter',[0 0 0; 0 1 0; 0 0 0]);\n",
    "% bp.bipolarSet('sRFsurround',[0 0 0; 0 1 0; 0 0 0]);\n",
    "\n",
    "% Need to fix bp compute bc it copies sensor\n",
    "bp = bipolarCompute(bp, os);"
   ]
  },
  {
   "cell_type": "code",
   "execution_count": 25,
   "metadata": {
    "collapsed": false
   },
   "outputs": [
    {
     "name": "stdout",
     "output_type": "stream",
     "text": [
      "params = \n",
      "\n",
      "            name: 'macaque phys'\n",
      "         eyeSide: 'left'\n",
      "       eyeRadius: 36\n",
      "        eyeAngle: 0\n",
      "    experimentID: '2013-08-19-6'\n",
      "    stimulusTest: 'NSEM'\n",
      "        cellType: 'On Parasol'\n",
      "     cellIndices: [1 2 3 4 5 6 7 8 9 10]\n"
     ]
    }
   ],
   "source": [
    "%%\n",
    "% Set parameters\n",
    "params.name = 'macaque phys';\n",
    "params.eyeSide = 'left'; \n",
    "params.eyeRadius = 36; \n",
    "params.eyeAngle = 0; ntrials = 0;\n",
    "\n",
    "% Determined at beginning to allow looping\n",
    "params.experimentID = experimentID; % Experimental dataset\n",
    "params.stimulusTest = stimulusTest; % WN or NSEM\n",
    "params.cellType = cellType;         % ON or OFF Parasol;\n",
    "\n",
    "params.cellIndices = 1:10%:118;\n",
    "\n",
    "% Create object\n",
    "innerRetinaSU = irPhys(bp, params);\n",
    "nTrials = 57; \n",
    "innerRetinaSU.mosaic{1} = innerRetinaSU.mosaic{1}.set('numberTrials',nTrials);\n"
   ]
  },
  {
   "cell_type": "code",
   "execution_count": 26,
   "metadata": {
    "collapsed": false
   },
   "outputs": [
    {
     "name": "stdout",
     "output_type": "stream",
     "text": [
      "Spike Generation:\n",
      "Elapsed time is 13.844113 seconds.\n",
      "Elapsed time is 13.923580 seconds.\n",
      "     \n",
      "Spike Generation:\n",
      "Elapsed time is 13.620757 seconds.\n",
      "Elapsed time is 13.685556 seconds.\n"
     ]
    }
   ],
   "source": [
    "%% Compute the inner retina response\n",
    "\n",
    "% Linear convolution\n",
    "innerRetinaSU = irCompute(innerRetinaSU, bp); \n",
    "\n",
    "% innerRetinaSU = irComputeContinuous(innerRetinaSU, bp); \n",
    "% innerRetinaSU = irNormalize(innerRetinaSU, innerRetina);\n",
    "% innerRetinaSU = irComputeSpikes(innerRetinaSU); \n",
    "\n",
    "innerRetinaSU = irSet(innerRetinaSU,'timing',1/120);\n",
    "\n",
    "% Get the PSTH from the object\n",
    "innerRetinaSUPSTH = mosaicGet(innerRetinaSU.mosaic{1},'responsePsth');\n"
   ]
  },
  {
   "cell_type": "code",
   "execution_count": 27,
   "metadata": {
    "collapsed": false
   },
   "outputs": [],
   "source": [
    "%% Generate outer segment object for GLM from RGB scene data\n",
    "\n",
    "% In this case, the RGC GLM calculation converts from the frame buffer\n",
    "% values in the movie to the spiking responses.  For this calculation, we\n",
    "% store the movie stimulus in the the outer segment object 'displayRGB'.\n",
    "\n",
    "os1 = osCreate('displayRGB'); \n",
    "os1 = osSet(os1, 'timeStep', 1/120);\n",
    "\n",
    "% Attach the movie to the object\n",
    "os1 = osSet(os1, 'rgbData', double(testmovieshort));"
   ]
  },
  {
   "cell_type": "code",
   "execution_count": 28,
   "metadata": {
    "collapsed": false
   },
   "outputs": [
    {
     "name": "stdout",
     "output_type": "stream",
     "text": [
      "params = \n",
      "\n",
      "            name: 'macaque phys'\n",
      "         eyeSide: 'left'\n",
      "       eyeRadius: 12\n",
      "        eyeAngle: 0\n",
      "    experimentID: '2013-08-19-6'\n",
      "    stimulusTest: 'NSEM'\n",
      "        cellType: 'On Parasol'\n",
      "     cellIndices: [1 2 3 4 5 6 7 8 9 10]\n"
     ]
    }
   ],
   "source": [
    "%% Generate RGC object for simulated GLM prediction of response\n",
    "% Set the parameters for the inner retina RGC mosaic. For the inner retina\n",
    "% type irPhys, the values for eyeSide, eyeRadius and eyeAngle have no\n",
    "% effect, because those are dependent on the properties of the retinal\n",
    "% piece used in the Chichilnisky Lab experiment.\n",
    "\n",
    "% Set parameters\n",
    "params.name = 'macaque phys';\n",
    "params.eyeSide = 'left'; \n",
    "params.eyeRadius = 12; \n",
    "params.eyeAngle = 0; ntrials = 0;\n",
    "\n",
    "% Determined at beginning to allow looping\n",
    "params.experimentID = experimentID; % Experimental dataset\n",
    "params.stimulusTest = stimulusTest; % WN or NSEM\n",
    "params.cellType = cellType;         % ON or OFF Parasol\n",
    "\n",
    "params.cellIndices = 1:10%:118;\n",
    "\n",
    "% Create object\n",
    "innerRetina = irPhys(os1, params);\n",
    "nTrials = 57;\n",
    "innerRetina.mosaic{1} = innerRetina.mosaic{1}.set('numberTrials',nTrials);"
   ]
  },
  {
   "cell_type": "code",
   "execution_count": 29,
   "metadata": {
    "collapsed": false
   },
   "outputs": [
    {
     "name": "stdout",
     "output_type": "stream",
     "text": [
      "Spike Generation:\n",
      "Elapsed time is 13.757622 seconds.\n",
      "Elapsed time is 13.809832 seconds.\n",
      "     \n",
      "Spike Generation:\n",
      "Elapsed time is 13.562089 seconds.\n",
      "Elapsed time is 13.621105 seconds.\n"
     ]
    }
   ],
   "source": [
    "%% Compute the inner retina response\n",
    "\n",
    "innerRetina = irCompute(innerRetina, os1);\n",
    "\n",
    "% Get the PSTH from the object\n",
    "innerRetinaPSTH = mosaicGet(innerRetina.mosaic{1},'responsePsth');"
   ]
  },
  {
   "cell_type": "code",
   "execution_count": 30,
   "metadata": {
    "collapsed": false
   },
   "outputs": [],
   "source": [
    "%% Create a new inner retina object and attach the recorded spikes\n",
    "% We also want to compare the spikes recorded in the experiment to those\n",
    "% from the simulation. We create a separate inner retina object with\n",
    "% isetbio to store these spikes. This makes it easy to use isetbio to plot\n",
    "% aspects of the response.\n",
    "\n",
    "% Create the object.\n",
    "innerRetinaRecorded = irPhys(os1, params);  \n",
    "\n",
    "% innerRetinaRecorded = irSet(innerRetinaRecorded,'timing',.008);\n",
    "innerRetinaRecorded.mosaic{1} = innerRetinaRecorded.mosaic{1}.set('numberTrials',nTrials);\n",
    "\n",
    "% Set the recorded spikes that we got from the RDT into the object.\n",
    "innerRetinaRecorded = irSet(innerRetinaRecorded,'recordedSpikes',xval_mosaic);\n",
    "% Get the PSTH using an isetbio routine.\n",
    "innerRetinaRecordedPSTH = mosaicGet(innerRetinaRecorded.mosaic{1},'responsePsth');\n"
   ]
  },
  {
   "cell_type": "code",
   "execution_count": 31,
   "metadata": {
    "collapsed": false
   },
   "outputs": [
    {
     "data": {
      "image/png": "[encoded data removed]",
      "text/plain": [
       "<IPython.core.display.Image object>"
      ]
     },
     "metadata": {},
     "output_type": "display_data"
    }
   ],
   "source": [
    "%% Plot the rasters\n",
    "\n",
    "% Set the time and cell number\n",
    "tStart = 1.5;% 9%1.5;\n",
    "tEnd = 9;%21;%18%21;%1*8.5;\n",
    "cellNum = 10;\n",
    "\n",
    "% Plot the original GLM prediction\n",
    "% vcNewGraphWin([],'upperleftbig'); \n",
    "h1 = figure; hold on;\n",
    "subplot(312); hold on;\n",
    "% subplot(211); hold on;\n",
    "% irPlot(innerRetina,'raster','cell',[cellNum 1],'hold','on','color','r')\n",
    "irPlot(innerRetinaSU,'raster','cell',[cellNum 1],'hf',h1,'dt',0.1,'color','b');\n",
    "title(sprintf('Black Box, NSEM, off parasol cell [%d 1]',cellNum));\n",
    "set(gca,'fontsize',14);\n",
    "axis([tStart tEnd 0 nTrials]);\n",
    "% axis off\n",
    "set(gca, 'xtick',-1);\n",
    "\n",
    "% Plot the biophys/subunit prediction\n",
    "subplot(313); hold on;\n",
    "% subplot(212); hold on;\n",
    "% irPlot(innerRetinaSU,'raster','cell',[cellNum 1],'hold','on','color','b')\n",
    "irPlot(innerRetina,'raster','cell',[cellNum 1],'hf',h1,'dt',0.1,'color','r');\n",
    "title(sprintf('Cascade Conv, NSEM, off parasol cell [%d  1]',cellNum));\n",
    "set(gca,'fontsize',14);\n",
    "% axis([tStart-.04 tEnd-.04 0 nTrials]); % when using theoretical irGLM\n",
    "% axis([tStart tEnd 0 nTrials]);\n",
    "% switch stimulusTestI\n",
    "%     case 1\n",
    "%         axis([tStart+1 tEnd+1 0 nTrials]);\n",
    "%     case 2\n",
    "        axis([tStart tEnd 0 nTrials]);\n",
    "% end\n",
    "% axis off\n",
    "set(gca, 'xtick',-1);\n",
    "\n",
    "% % Plot the recorded spikes\n",
    "subplot(311); hold on;\n",
    "\n",
    "irPlot(innerRetinaRecorded,'raster','cell',[cellNum 1],'hf',h1,'dt',0.1,'color','k');\n",
    "% irPlot(innerRetinaRecorded,'raster','cell',[cellNum 1],'hold','on','color','k')\n",
    "title(sprintf('Recorded, NSEM, off parasol cell [%d  1]',cellNum));\n",
    "set(gca,'fontsize',14);\n",
    "\n",
    "switch stimulusTestI\n",
    "    case 1\n",
    "        axis([tStart-0.5 tEnd-0.5 0 nTrials]);\n",
    "    case 2\n",
    "        axis([tStart-1 tEnd-1 0 nTrials]);\n",
    "end"
   ]
  },
  {
   "cell_type": "code",
   "execution_count": 24,
   "metadata": {
    "collapsed": false
   },
   "outputs": [
    {
     "name": "stdout",
     "output_type": "stream",
     "text": [
      "Updating shared toolbox \"isetbio\" at \"/srv/toolbox-toolbox/toolboxes/isetbio\"\n",
      "Adding toolbox path \"/srv/toolbox-toolbox/toolboxes/isetbio\"\n",
      "[\bWarning: Function isrow has the same name as a MATLAB builtin. We suggest you\n",
      "rename the function to avoid a potential name conflict.]\b \n",
      "[\b> In path (line 109)\n",
      "  In addpath (line 88)\n",
      "  In tbSetToolboxPath (line 55)\n",
      "  In tbDeployToolboxes (line 96)\n",
      "  In pymat_eval (line 31)\n",
      "  In matlabserver (line 24)]\b \n",
      "\n",
      "results = \n",
      "\n",
      "       name: 'isetbio'\n",
      "        ref: [1x0 char]\n",
      "       type: 'git'\n",
      "        url: 'https://github.com/isetbio/isetbio.git'\n",
      "    command: 'git -C \"/srv/toolbox-toolbox/toolboxes/isetbio\" pull'\n",
      "     status: 0\n",
      "     result: 'remote: Counting objects: 6, done.        ...'\n"
     ]
    }
   ],
   "source": [
    "results = tbDeployToolboxes('name', 'isetbio')"
   ]
  },
  {
   "cell_type": "code",
   "execution_count": null,
   "metadata": {
    "collapsed": true
   },
   "outputs": [],
   "source": []
  }
 ],
 "metadata": {
  "kernelspec": {
   "display_name": "Matlab",
   "language": "matlab",
   "name": "matlab"
  },
  "language_info": {
   "codemirror_mode": "octave",
   "file_extension": ".m",
   "help_links": [
    {
     "text": "MetaKernel Magics",
     "url": "https://github.com/calysto/metakernel/blob/master/metakernel/magics/README.md"
    }
   ],
   "mimetype": "text/x-octave",
   "name": "matlab",
   "version": "0.10.1"
  }
 },
 "nbformat": 4,
 "nbformat_minor": 0
}
