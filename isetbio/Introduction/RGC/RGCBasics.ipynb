{
 "cells": [
  {
   "cell_type": "markdown",
   "metadata": {},
   "source": [
    "### The Retinal Ganglion Cell (RGC) object\n",
    "\n",
    "A tutorial introducing the ISETBIO RGC object. \n",
    "\n",
    "There are many types of retinal ganglion cells.  We have begun by implementing the core class of RGC with several different types of computations and parameters so that we can mimic the ON/OFF MIDGET/PARASOL and BISTRATIFIED ganglion cell types.\n",
    "\n",
    "This notebook illustrates how we create an ON-MIDGET and then calculate its response to a bar at several different positions.  In the evil Matlab environment you can make an actual movie.\n",
    "\n",
    "\n",
    "\n"
   ]
  },
  {
   "cell_type": "markdown",
   "metadata": {},
   "source": [
    "### A moving bar \n",
    "\n",
    "See the script SomethingOrOther for how to create a movie of moving bar.  We will use that as the input.  We have stored that movie on the RemoteDataToolbox site.\n",
    "\n"
   ]
  },
  {
   "cell_type": "code",
   "execution_count": null,
   "metadata": {
    "collapsed": false
   },
   "outputs": [],
   "source": [
    "rd = RdtClient('isetbio');\n",
    "rd.crp('/resources/data/istim');\n",
    "a = rd.listArtifacts;\n",
    "rdtPrintArtifactTable(a);"
   ]
  },
  {
   "cell_type": "code",
   "execution_count": null,
   "metadata": {
    "collapsed": false
   },
   "outputs": [],
   "source": [
    "% Set up a Gabor stimulus using sceneCreate('harmonic',params)\n",
    "\n",
    "% Create display\n",
    "display = displayCreate('CRT-Sony-HorwitzLab');\n",
    "scene = sceneCreate('empty');\n",
    "fov = 0.6;\n",
    "scene = sceneSet(scene, 'h fov', fov);\n",
    "scene\n"
   ]
  },
  {
   "cell_type": "code",
   "execution_count": null,
   "metadata": {
    "collapsed": false
   },
   "outputs": [],
   "source": [
    "% Create optics and sensor\n",
    "oi  = oiCreate('wvf human');\n",
    "\n",
    "% Sensor\n",
    "params.expTime = 0.01;\n",
    "params.timeInterval = 0.01;\n",
    "sensor = sensorCreate('human');\n",
    "sensor = sensorSetSizeToFOV(sensor, fov, scene, oi);\n",
    "sensor = sensorSet(sensor, 'exp time', params.expTime); \n",
    "sensor = sensorSet(sensor, 'time interval', params.timeInterval); \n",
    "sensor"
   ]
  },
  {
   "cell_type": "code",
   "execution_count": null,
   "metadata": {
    "collapsed": false
   },
   "outputs": [],
   "source": [
    "% Movie parameters\n",
    "params.barwidth = 5;\n",
    "params.meanLuminance = 200;\n",
    "params.row = 64; \n",
    "params.col = 64;\n",
    "params.nSteps = 50;     % Number of stimulus frames\n",
    "\n",
    "% Loop through frames to build movie\n",
    "fprintf('\\nStart');\n",
    "for t = 1 : params.nSteps\n",
    "    fprintf('.');\n",
    "    if t == 1 \n",
    "        barMovie = zeros(params.row,params.col,3);\n",
    "    end\n",
    "    barMovie(:,1+t:t+params.barwidth,:) = 0.5 + 0.499*ones(params.row,params.barwidth,3);\n",
    "    barMovie(1,1,:) = 0;\n",
    "\n",
    "    % Generate scene object from stimulus RGB matrix and display object\n",
    "    scene = sceneFromFile(barMovie, 'rgb', params.meanLuminance, display);\n",
    "\n",
    "    scene = sceneSet(scene, 'h fov', fov);\n",
    "\n",
    "    % Get scene RGB data    \n",
    "    sceneRGB(:,:,t,:) = sceneGet(scene,'rgb');\n",
    "    \n",
    "    % Compute optical image\n",
    "    oi = oiCompute(oi, scene);    \n",
    "    \n",
    "    % Compute absorptions\n",
    "    sensor = sensorCompute(sensor, oi);\n",
    "\n",
    "    if t == 1\n",
    "        volts = zeros([sensorGet(sensor, 'size') params.nSteps]);\n",
    "    end\n",
    "    volts(:,:,t) = sensorGet(sensor, 'volts');\n",
    "    \n",
    "end\n",
    "fprintf('\\nStop\\n');\n",
    "\n",
    "% Set the stimuls into the sensor object\n",
    "sensor = sensorSet(sensor, 'volts', volts);\n"
   ]
  },
  {
   "cell_type": "code",
   "execution_count": null,
   "metadata": {
    "collapsed": false
   },
   "outputs": [],
   "source": [
    "% Use the sensor absorptions and create  outer segment photocurrent\n",
    "os = osCreate('linear');\n",
    "\n",
    "% Set cone spacing so that \n",
    "arrayWidth = sensorGet(sensor,'width');\n",
    "os = osSet(os, 'patch size', arrayWidth);\n",
    "\n",
    "% The size of the whole mosaic\n",
    "% I think there is a function that gets this value, maybe in oiGet.\n",
    "%  umPerDeg = 300;\n",
    "%  coneSpacing = scene.wAngular*umPerDeg;\n",
    "\n",
    "tSampling = sensorGet(sensor,'time interval','sec');\n",
    "os = osSet(os, 'time step', tSampling);\n",
    "\n",
    "% os = osSet(os, 'rgbData', sceneRGB);\n",
    "os = osCompute(os, sensor);\n",
    "\n",
    "% Plot the photocurrent for a pixel\n",
    "osPlot(os,sensor);"
   ]
  },
  {
   "cell_type": "code",
   "execution_count": null,
   "metadata": {
    "collapsed": false
   },
   "outputs": [],
   "source": [
    "\n",
    "\n",
    "bp = bipolar(os,'filterType',1);\n",
    "% bp = bipolar(os,cellType,2);\n",
    "\n",
    "bp = bipolarCompute(bp, os);\n",
    "\n",
    "bipolarPlot(bp,'response');"
   ]
  },
  {
   "cell_type": "code",
   "execution_count": 7,
   "metadata": {
    "collapsed": false
   },
   "outputs": [
    {
     "name": "stdout",
     "output_type": "stream",
     "text": [
      "Elapsed time is 0.789624 seconds.\n",
      "     \n",
      "Spatial Convolution, on midget:     \n",
      "Elapsed time is 0.295207 seconds.\n",
      "Temporal Convolution, on midget:     \n",
      "Elapsed time is 0.161951 seconds.\n",
      "\n",
      "itrial =\n",
      "\n",
      "     1\n",
      "\n",
      "\n",
      "itrial =\n",
      "\n",
      "     2\n",
      "\n",
      "\n",
      "itrial =\n",
      "\n",
      "     3\n",
      "\n",
      "\n",
      "itrial =\n",
      "\n",
      "     4\n",
      "\n",
      "\n",
      "itrial =\n",
      "\n",
      "     5\n",
      "\n",
      "\n",
      "itrial =\n",
      "\n",
      "     6\n",
      "\n",
      "\n",
      "itrial =\n",
      "\n",
      "     7\n",
      "\n",
      "\n",
      "itrial =\n",
      "\n",
      "     8\n",
      "\n",
      "\n",
      "itrial =\n",
      "\n",
      "     9\n",
      "\n",
      "\n",
      "itrial =\n",
      "\n",
      "    10\n"
     ]
    }
   ],
   "source": [
    "%% Build rgc\n",
    "\n",
    "clear params\n",
    "params.name      = 'Macaque inner retina 1'; % This instance\n",
    "\n",
    "params.eyeSide   = 'left';   % Which eye\n",
    "params.eyeRadius = 4;        % Radius in mm\n",
    "params.eyeAngle  = 90;       % Polar angle in degrees\n",
    "\n",
    "innerRetinaSU = irCreate(bp, params);\n",
    "\n",
    "% innerRetinaSU.mosaicCreate('model','glm','type','off midget');\n",
    "innerRetinaSU.mosaicCreate('model','glm','type','on midget');\n",
    "% innerRetinaSU.mosaicCreate('model','glm','type','off parasol');\n",
    "% innerRetinaSU.mosaicCreate('model','glm','type','on midget');\n",
    "%% Compute RGC response\n",
    "\n",
    "innerRetinaSU = irCompute(innerRetinaSU, bp);\n"
   ]
  },
  {
   "cell_type": "code",
   "execution_count": 8,
   "metadata": {
    "collapsed": false
   },
   "outputs": [
    {
     "data": {
      "image/png": "[encoded data removed]",
      "text/plain": [
       "<IPython.core.display.Image object>"
      ]
     },
     "metadata": {},
     "output_type": "display_data"
    }
   ],
   "source": [
    "\n",
    "irPlot(innerRetinaSU, 'psth','type',1,'cell',[1 3]);"
   ]
  },
  {
   "cell_type": "code",
   "execution_count": 9,
   "metadata": {
    "collapsed": false
   },
   "outputs": [
    {
     "data": {
      "image/png": "[encoded data removed]",
      "text/plain": [
       "<IPython.core.display.Image object>"
      ]
     },
     "metadata": {},
     "output_type": "display_data"
    }
   ],
   "source": [
    "irPlot(innerRetinaSU, 'psth','type',1,'cell',[5 3]);"
   ]
  },
  {
   "cell_type": "code",
   "execution_count": 1,
   "metadata": {
    "collapsed": false
   },
   "outputs": [
    {
     "name": "stderr",
     "output_type": "stream",
     "text": [
      "Undefined function or variable 'innerRetinaSU'.\n"
     ]
    }
   ],
   "source": [
    "irPlot(innerRetinaSU,'linear')"
   ]
  },
  {
   "cell_type": "code",
   "execution_count": null,
   "metadata": {
    "collapsed": true
   },
   "outputs": [],
   "source": []
  }
 ],
 "metadata": {
  "kernelspec": {
   "display_name": "Matlab",
   "language": "matlab",
   "name": "matlab"
  },
  "language_info": {
   "codemirror_mode": "octave",
   "file_extension": ".m",
   "help_links": [
    {
     "text": "MetaKernel Magics",
     "url": "https://github.com/calysto/metakernel/blob/master/metakernel/magics/README.md"
    }
   ],
   "mimetype": "text/x-octave",
   "name": "matlab",
   "version": "0.10.1"
  }
 },
 "nbformat": 4,
 "nbformat_minor": 0
}
