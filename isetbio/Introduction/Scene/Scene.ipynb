{
 "cells": [
  {
   "cell_type": "markdown",
   "metadata": {},
   "source": [
    "%% t_sceneIntroduction\n",
    "%\n",
    "% An introduction to ISETBIO objects and functions: Scene\n",
    "%\n",
    "% ISETBIO is structured around a few key objects that are important parts of\n",
    "% the image acquisition pipeline. These are the scene, optical image,\n",
    "% sensor, and image processor.\n",
    "%\n",
    "% A main goal of this script is to illustrate the ISETBIO programming style.\n",
    "% By using ISETBIO objects properly, the code and analysis are much easier to\n",
    "% understand. The implementation of these objects was written before Matlab\n",
    "% implemented its classes and thus doesn't rely on their organization.  But\n",
    "% many of the principles are the same.\n",
    "%\n",
    "% For each object there are three fundamental operations:  Create, set\n",
    "% parameters, and get parameters.\n",
    "%\n",
    "% This script introduces the first and simplest ISETBIO object: a scene. The\n",
    "% scene describes the radiance field.  For the present tutorial we  work\n",
    "% with a simple planar radiance image, such as the image on a display\n",
    "% surface.  We have some implementations for 3D scenes that should be\n",
    "% incorporated by mid-2014.\n",
    "%"
   ]
  },
  {
   "cell_type": "code",
   "execution_count": null,
   "metadata": {
    "collapsed": true
   },
   "outputs": [],
   "source": [
    "%% Initializing ISET\n",
    "% While not necessary, initialization keeps the work space clean\n",
    "ieInit;"
   ]
  }
 ],
 "metadata": {
  "kernelspec": {
   "display_name": "Matlab",
   "language": "matlab",
   "name": "matlab"
  },
  "language_info": {
   "codemirror_mode": "octave",
   "file_extension": ".m",
   "help_links": [
    {
     "text": "MetaKernel Magics",
     "url": "https://github.com/calysto/metakernel/blob/master/metakernel/magics/README.md"
    }
   ],
   "mimetype": "text/x-octave",
   "name": "matlab",
   "version": "0.10.1"
  }
 },
 "nbformat": 4,
 "nbformat_minor": 0
}
