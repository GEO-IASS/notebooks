{
 "cells": [
  {
   "cell_type": "code",
   "execution_count": 1,
   "metadata": {
    "collapsed": false
   },
   "outputs": [
    {
     "name": "stdout",
     "output_type": "stream",
     "text": [
      "biNormal.m  ieMvnrnd.m\t iePoissrnd.cpp        iePoissrnd.mexw64\n",
      "expRand.m   iePoisson.m  iePoissrnd.mexmaci64  iePrctile.m\n"
     ]
    }
   ],
   "source": [
    "% Want to compile the isetbio mex-function iePoissrnd for all to use.\n",
    "\n",
    "% I already see some executables for OS X and Windows.\n",
    "% Should we add our new Linux executable to the GitHub repo?\n",
    "ls /srv/toolbox-toolbox/toolboxes/isetbio/isettools/utility/statistics/"
   ]
  },
  {
   "cell_type": "code",
   "execution_count": 30,
   "metadata": {
    "collapsed": false
   },
   "outputs": [
    {
     "name": "stdout",
     "output_type": "stream",
     "text": [
      "/srv/toolbox-toolbox/toolboxes/isetbio/isettools/utility/statistics/iePoissrnd.cpp\n"
     ]
    }
   ],
   "source": [
    "% Since this function is located in the shared isetbio repo, compiling and sharing should be straigntforward.\n",
    "which iePoissrnd.cpp"
   ]
  },
  {
   "cell_type": "code",
   "execution_count": 13,
   "metadata": {
    "collapsed": false
   },
   "outputs": [
    {
     "name": "stdout",
     "output_type": "stream",
     "text": [
      "Building with 'g++'.\n",
      "[\bWarning: You are using gcc version '4.9.2'. The version of gcc is not\n",
      "supported. The version currently supported with MEX is '4.7.x'. For a list of\n",
      "currently supported compilers see:\n",
      "http://www.mathworks.com/support/compilers/current_release.]\b \n",
      "[\b> In pymat_eval (line 31)\n",
      "  In matlabserver (line 24)]\b \n",
      "[\bWarning: You are using gcc version '4.9.2-10)'. The version of gcc is not\n",
      "supported. The version currently supported with MEX is '4.7.x'. For a list of\n",
      "currently supported compilers see:\n",
      "http://www.mathworks.com/support/compilers/current_release.]\b \n",
      "[\b> In pymat_eval (line 31)\n",
      "  In matlabserver (line 24)]\b \n",
      "MEX completed successfully.\n"
     ]
    }
   ],
   "source": [
    "% Since I already ran this cell, you could probably skip it.\n",
    "\n",
    "% The idea is just to compile with output going to the same folder inside isetbio.\n",
    "mex('/srv/toolbox-toolbox/toolboxes/isetbio/isettools/utility/statistics/iePoissrnd.cpp', ...\n",
    "    '-output', '/srv/toolbox-toolbox/toolboxes/isetbio/isettools/utility/statistics/iePoissrnd')"
   ]
  },
  {
   "cell_type": "code",
   "execution_count": 33,
   "metadata": {
    "collapsed": false
   },
   "outputs": [
    {
     "name": "stdout",
     "output_type": "stream",
     "text": [
      "/srv/toolbox-toolbox/toolboxes/isetbio/isettools/utility/statistics/iePoissrnd.mexa64\n"
     ]
    }
   ],
   "source": [
    "% Did it come out right?\n",
    "which iePoissrnd"
   ]
  },
  {
   "cell_type": "code",
   "execution_count": 34,
   "metadata": {
    "collapsed": false
   },
   "outputs": [
    {
     "data": {
      "image/png": "[encoded data removed]",
      "text/plain": [
       "<IPython.core.display.Image object>"
      ]
     },
     "metadata": {},
     "output_type": "display_data"
    }
   ],
   "source": [
    "% Let 'er rip!\n",
    "hist(iePoissrnd(100, 1000))"
   ]
  },
  {
   "cell_type": "code",
   "execution_count": null,
   "metadata": {
    "collapsed": true
   },
   "outputs": [],
   "source": []
  }
 ],
 "metadata": {
  "kernelspec": {
   "display_name": "Matlab",
   "language": "matlab",
   "name": "matlab"
  },
  "language_info": {
   "codemirror_mode": "octave",
   "file_extension": ".m",
   "help_links": [
    {
     "text": "MetaKernel Magics",
     "url": "https://github.com/calysto/metakernel/blob/master/metakernel/magics/README.md"
    }
   ],
   "mimetype": "text/x-octave",
   "name": "matlab",
   "version": "0.10.1"
  }
 },
 "nbformat": 4,
 "nbformat_minor": 0
}
