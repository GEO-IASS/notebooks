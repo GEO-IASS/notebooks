{
 "cells": [
  {
   "cell_type": "code",
   "execution_count": 1,
   "metadata": {
    "collapsed": true
   },
   "outputs": [],
   "source": [
    "% This notebook is a demo and test of the Remote Data Toolbox.\n",
    "% We should be able to find some artifacts and download one."
   ]
  },
  {
   "cell_type": "code",
   "execution_count": 2,
   "metadata": {
    "collapsed": false
   },
   "outputs": [
    {
     "name": "stdout",
     "output_type": "stream",
     "text": [
      "fastArtifacts = \n",
      "\n",
      "1x29 struct array with fields:\n",
      "\n",
      "    artifactId\n",
      "    description\n",
      "    localPath\n",
      "    name\n",
      "    remotePath\n",
      "    repositoryId\n",
      "    type\n",
      "    url\n",
      "    version\n"
     ]
    }
   ],
   "source": [
    "% Find our isetbio \"fast\" validation artifacts.\n",
    "c = RdtClient('isetbio');\n",
    "fastArtifacts = c.searchArtifacts('fast')"
   ]
  },
  {
   "cell_type": "code",
   "execution_count": 5,
   "metadata": {
    "collapsed": false
   },
   "outputs": [
    {
     "name": "stdout",
     "output_type": "stream",
     "text": [
      "data = \n",
      "\n",
      "    [1x1 struct]\n",
      "\n",
      "\n",
      "artifact = \n",
      "\n",
      "      artifactId: 'Colorimetry'\n",
      "     description: ''\n",
      "       localPath: '/home/benjamin.heasly@gmail.com/.gradle/caches/modules-...'\n",
      "            name: ''\n",
      "      remotePath: 'validation/fast/color'\n",
      "    repositoryId: ''\n",
      "            type: 'mat'\n",
      "             url: 'http://52.32.77.154/repository/isetbio/validation/fast/...'\n",
      "         version: 'run00001'\n"
     ]
    }
   ],
   "source": [
    "% Read the first artifact and look at what we get.\n",
    "\n",
    "% this may take a while the first time through\n",
    "% beacuse Gradle needs to install itself\n",
    "[data, artifact] = c.readArtifacts(fastArtifacts(1))"
   ]
  },
  {
   "cell_type": "code",
   "execution_count": 6,
   "metadata": {
    "collapsed": false
   },
   "outputs": [
    {
     "name": "stdout",
     "output_type": "stream",
     "text": [
      "ans = \n",
      "\n",
      "         extraData: [1x1 struct]\n",
      "          hostInfo: [1x1 struct]\n",
      "    validationData: '560c95e38f3ca25b19590266191f3e65a36cca129f4d659fe9ed1...'\n",
      "    validationTime: '08-Jan-2016 12:51:27'\n"
     ]
    }
   ],
   "source": [
    "data{:}"
   ]
  },
  {
   "cell_type": "code",
   "execution_count": null,
   "metadata": {
    "collapsed": true
   },
   "outputs": [],
   "source": []
  }
 ],
 "metadata": {
  "kernelspec": {
   "display_name": "Matlab",
   "language": "matlab",
   "name": "matlab"
  },
  "language_info": {
   "codemirror_mode": "octave",
   "file_extension": ".m",
   "help_links": [
    {
     "text": "MetaKernel Magics",
     "url": "https://github.com/calysto/metakernel/blob/master/metakernel/magics/README.md"
    }
   ],
   "mimetype": "text/x-octave",
   "name": "matlab",
   "version": "0.10.1"
  }
 },
 "nbformat": 4,
 "nbformat_minor": 0
}
