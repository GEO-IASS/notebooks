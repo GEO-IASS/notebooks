{
 "cells": [
  {
   "cell_type": "code",
   "execution_count": 3,
   "metadata": {
    "collapsed": false
   },
   "outputs": [
    {
     "name": "stdout",
     "output_type": "stream",
     "text": [
      "Updating shared toolbox \"isetbio\" at \"/srv/toolbox-toolbox/toolboxes/isetbio\"\n",
      "Adding toolbox path \"/srv/toolbox-toolbox/toolboxes/isetbio\"\n",
      "[\bWarning: Function isrow has the same name as a MATLAB builtin. We suggest you\n",
      "rename the function to avoid a potential name conflict.]\b \n",
      "[\b> In path (line 109)\n",
      "  In addpath (line 88)\n",
      "  In tbSetToolboxPath (line 55)\n",
      "  In tbDeployToolboxes (line 96)\n",
      "  In pymat_eval (line 31)\n",
      "  In matlabserver (line 24)]\b \n",
      "Updating shared toolbox \"RemoteDataToolbox\" at \"/srv/toolbox-toolbox/toolboxes/RemoteDataToolbox\"\n",
      "Adding toolbox path \"/srv/toolbox-toolbox/toolboxes/RemoteDataToolbox\"\n",
      "[\bWarning: Function isrow has the same name as a MATLAB builtin. We suggest you\n",
      "rename the function to avoid a potential name conflict.]\b \n",
      "[\b> In path (line 109)\n",
      "  In addpath (line 88)\n",
      "  In tbSetToolboxPath (line 55)\n",
      "  In tbDeployToolboxes (line 96)\n",
      "  In pymat_eval (line 31)\n",
      "  In matlabserver (line 24)]\b\n"
     ]
    }
   ],
   "source": [
    "% this is how to update toolboxes that are already deployed\n",
    "tbDeployToolboxes('name', 'isetbio');\n",
    "tbDeployToolboxes('name', 'RemoteDataToolbox');"
   ]
  },
  {
   "cell_type": "code",
   "execution_count": 5,
   "metadata": {
    "collapsed": true
   },
   "outputs": [],
   "source": [
    "c = RdtClient('isetbio');\n",
    "fastArtifacts = c.searchArtifacts('fast');"
   ]
  },
  {
   "cell_type": "code",
   "execution_count": 8,
   "metadata": {
    "collapsed": false
   },
   "outputs": [],
   "source": [
    "[data, artifacts] = c.readArtifacts(fastArtifacts(1));"
   ]
  },
  {
   "cell_type": "code",
   "execution_count": 10,
   "metadata": {
    "collapsed": false
   },
   "outputs": [
    {
     "name": "stdout",
     "output_type": "stream",
     "text": [
      "ans =\n",
      "\n",
      "     1     1\n"
     ]
    }
   ],
   "source": [
    "size(data{1})"
   ]
  },
  {
   "cell_type": "code",
   "execution_count": 11,
   "metadata": {
    "collapsed": false
   },
   "outputs": [
    {
     "name": "stdout",
     "output_type": "stream",
     "text": [
      "data = \n",
      "\n",
      "    [1x1 struct]\n"
     ]
    }
   ],
   "source": [
    "data"
   ]
  },
  {
   "cell_type": "code",
   "execution_count": 12,
   "metadata": {
    "collapsed": false
   },
   "outputs": [
    {
     "name": "stdout",
     "output_type": "stream",
     "text": [
      "ans = \n",
      "\n",
      "         extraData: [1x1 struct]\n",
      "          hostInfo: [1x1 struct]\n",
      "    validationData: '560c95e38f3ca25b19590266191f3e65a36cca129f4d659fe9ed1...'\n",
      "    validationTime: '08-Jan-2016 12:51:27'\n"
     ]
    }
   ],
   "source": [
    "data{1}"
   ]
  },
  {
   "cell_type": "code",
   "execution_count": null,
   "metadata": {
    "collapsed": true
   },
   "outputs": [],
   "source": []
  }
 ],
 "metadata": {
  "kernelspec": {
   "display_name": "Matlab",
   "language": "matlab",
   "name": "matlab"
  },
  "language_info": {
   "codemirror_mode": "octave",
   "file_extension": ".m",
   "help_links": [
    {
     "text": "MetaKernel Magics",
     "url": "https://github.com/calysto/metakernel/blob/master/metakernel/magics/README.md"
    }
   ],
   "mimetype": "text/x-octave",
   "name": "matlab",
   "version": "0.10.1"
  }
 },
 "nbformat": 4,
 "nbformat_minor": 0
}
