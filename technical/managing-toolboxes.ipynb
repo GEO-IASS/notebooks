{
 "cells": [
  {
   "cell_type": "code",
   "execution_count": 4,
   "metadata": {
    "collapsed": false
   },
   "outputs": [],
   "source": [
    "% We are using a \"Toolbox Toolbox\" to manage our code on the isetbio\n",
    "% Front Porch Jupyter Hub server.\n",
    "%\n",
    "% This lets us declare several toolboxes that we need, in a JSON file.\n",
    "% Then the Toolbox Toolbox goes and gets/updates each one them for us.\n",
    "% It also sets up the Matlab path for these toolboxes.\n",
    "%\n",
    "% Currently the Toolbox Toolbox lives inside one of our JupyterHub \n",
    "% Docker repositories:\n",
    "%   https://github.com/benjamin-heasly/jupyter-hub-oauth-matlab/tree/master/toolbox-toolbox\n",
    "% But it may \"graduate\" to its own repository and development line. \n",
    "%\n",
    "% This notebook explains the Toolbox Toolbox, how we're using it to\n",
    "% support the Front Porch, how you might want to use it in your own\n",
    "% notebooks."
   ]
  },
  {
   "cell_type": "code",
   "execution_count": 39,
   "metadata": {
    "collapsed": false
   },
   "outputs": [
    {
     "name": "stdout",
     "output_type": "stream",
     "text": [
      "RemoteDataToolbox  isetbio\n"
     ]
    }
   ],
   "source": [
    "% The Toolbox Toolbox helps us manage some shared Matlab toolboxes\n",
    "% that we need for the Front Porth: isetbio and RemoteDataToolbox.\n",
    "% These toolboxes live in \n",
    "%   /srv/toolbox-toolbox/toolboxes\n",
    "% which is a place where the Toolbox Toolbox knows to look.\n",
    "ls('/srv/toolbox-toolbox/toolboxes')"
   ]
  },
  {
   "cell_type": "code",
   "execution_count": 40,
   "metadata": {
    "collapsed": false
   },
   "outputs": [
    {
     "name": "stdout",
     "output_type": "stream",
     "text": [
      "Updating shared toolbox \"isetbio\" at \"/srv/toolbox-toolbox/toolboxes/isetbio\"\n",
      "\n",
      "results = \n",
      "\n",
      "       name: 'isetbio'\n",
      "        ref: [1x0 char]\n",
      "       type: 'git'\n",
      "        url: 'https://github.com/isetbio/isetbio.git'\n",
      "    command: 'git -C \"/srv/toolbox-toolbox/toolboxes/isetbio\" pull'\n",
      "     status: 1\n",
      "     result: 'remote: Counting objects: 7, done.        ...'\n",
      "\n",
      "Updating shared toolbox \"RemoteDataToolbox\" at \"/srv/toolbox-toolbox/toolboxes/RemoteDataToolbox\"\n",
      "Adding toolbox path \"/srv/toolbox-toolbox/toolboxes/RemoteDataToolbox\"\n",
      "[\bWarning: Function isrow has the same name as a MATLAB builtin. We suggest you\n",
      "rename the function to avoid a potential name conflict.]\b \n",
      "[\b> In path (line 109)\n",
      "  In addpath (line 88)\n",
      "  In tbSetToolboxPath (line 55)\n",
      "  In tbDeployToolboxes (line 96)\n",
      "  In pymat_eval (line 31)\n",
      "  In matlabserver (line 24)]\b \n",
      "\n",
      "results = \n",
      "\n",
      "       name: 'RemoteDataToolbox'\n",
      "        ref: [1x0 char]\n",
      "       type: 'git'\n",
      "        url: 'https://github.com/isetbio/RemoteDataToolbox.git'\n",
      "    command: 'git -C \"/srv/toolbox-toolbox/toolboxes/RemoteDataToolbox\" pull'\n",
      "     status: 0\n",
      "     result: 'Already up-to-date....'\n"
     ]
    }
   ],
   "source": [
    "% From time to time we may need to update these toolboxes.\n",
    "% We could do this from the terminal with \"git pull\".\n",
    "\n",
    "% Or, we could use Toolbox Toolbox one-liners like these:\n",
    "results = tbDeployToolboxes('name', 'isetbio')\n",
    "results = tbDeployToolboxes('name', 'RemoteDataToolbox')"
   ]
  },
  {
   "cell_type": "code",
   "execution_count": 41,
   "metadata": {
    "collapsed": false
   },
   "outputs": [
    {
     "name": "stdout",
     "output_type": "stream",
     "text": [
      "notebooks\n"
     ]
    }
   ],
   "source": [
    "% Each user (including you!) also has a private clone of our \n",
    "% notebooks repository.  This lives in \n",
    "%   ~/toolboxes/notebooks\n",
    "% which is another place where the Toolbox Toolbox to look.\n",
    "ls('~/toolboxes')\n",
    "\n",
    "% NOTE: Since the notebooks live in your home folder, you can feel \n",
    "% free play with them, modify them, add new ones, etc.  Your changes\n",
    "% will be isolated in your own \"sandbox\"."
   ]
  },
  {
   "cell_type": "code",
   "execution_count": 43,
   "metadata": {
    "collapsed": false
   },
   "outputs": [
    {
     "name": "stdout",
     "output_type": "stream",
     "text": [
      "Updating toolbox \"notebooks\" at \"/home/benjamin.heasly@gmail.com/toolboxes/notebooks\"\n",
      "Adding toolbox path \"/home/benjamin.heasly@gmail.com/toolboxes/notebooks\"\n",
      "[\bWarning: Function isrow has the same name as a MATLAB builtin. We suggest you\n",
      "rename the function to avoid a potential name conflict.]\b \n",
      "[\b> In path (line 109)\n",
      "  In addpath (line 88)\n",
      "  In tbSetToolboxPath (line 55)\n",
      "  In tbDeployToolboxes (line 98)\n",
      "  In pymat_eval (line 31)\n",
      "  In matlabserver (line 24)]\b\n"
     ]
    }
   ],
   "source": [
    "% From time time, you may wish to update these notebooks to get changes\n",
    "% from others.  As above, you could do this with \"git pull\", or with \n",
    "% a one-liner like this:\n",
    "tbDeployToolboxes('name', 'notebooks');\n",
    "\n",
    "% NOTE: the Front Porch server automatically updates your notebooks \n",
    "% folder each time you log in and click on \"Start My Server\".  This \n",
    "% will revert any changes you have made to shared notebooks.  This \n",
    "% applies to only to shared notebooks that git knows about.  Any new\n",
    "% files or folders you have added to the notebooks folder will remain."
   ]
  },
  {
   "cell_type": "code",
   "execution_count": 44,
   "metadata": {
    "collapsed": false
   },
   "outputs": [
    {
     "name": "stdout",
     "output_type": "stream",
     "text": [
      "Fetching toolbox \"EJLFigureReproduction\" into \"/home/benjamin.heasly@gmail.com/toolboxes/EJLFigureReproduction\"\n",
      "Adding toolbox path \"/home/benjamin.heasly@gmail.com/toolboxes/EJLFigureReproduction\"\n",
      "[\bWarning: Function isrow has the same name as a MATLAB builtin. We suggest you\n",
      "rename the function to avoid a potential name conflict.]\b \n",
      "[\b> In path (line 109)\n",
      "  In addpath (line 88)\n",
      "  In tbSetToolboxPath (line 55)\n",
      "  In tbDeployToolboxes (line 98)\n",
      "  In tbAddToolbox (line 53)\n",
      "  In pymat_eval (line 31)\n",
      "  In matlabserver (line 24)]\b \n",
      "\n",
      "results = \n",
      "\n",
      "       name: 'EJLFigureReproduction'\n",
      "        ref: ''\n",
      "       type: 'git'\n",
      "        url: 'https://github.com/isetbio/EJLFigureReproduction.git'\n",
      "    command: 'git -C \"/home/benjamin.heasly@gmail.com/toolboxes\" clone \"ht...'\n",
      "     status: 0\n",
      "     result: 'Cloning into 'EJLFigureReproduction'......'\n"
     ]
    }
   ],
   "source": [
    "% You might wish to obtain another toolbox which we haven't included\n",
    "% on the server.  The Toolbox Toolbox can help you do this.  It can \n",
    "% add new toolboxes in your own ~/toolboxes folder, and add them to\n",
    "% the Matlab path.\n",
    "\n",
    "% For example, let's add the repository created by JG where he \n",
    "% reproduces one of the figures from a paper by EJC.  You would need\n",
    "% to add a one-liner like this to the top of any notebook that uses\n",
    "% the new toolbox.\n",
    "results = tbAddToolbox('name', 'EJLFigureReproduction', 'url', ...\n",
    "   'https://github.com/isetbio/EJLFigureReproduction.git')"
   ]
  },
  {
   "cell_type": "code",
   "execution_count": 45,
   "metadata": {
    "collapsed": false
   },
   "outputs": [
    {
     "name": "stdout",
     "output_type": "stream",
     "text": [
      "EJLFigureReproduction  notebooks\n"
     ]
    }
   ],
   "source": [
    "% Now that the new toolbox is added, you can see it in your own \n",
    "% ~/toolboxes.\n",
    "ls('~/toolboxes')"
   ]
  },
  {
   "cell_type": "code",
   "execution_count": 46,
   "metadata": {
    "collapsed": false
   },
   "outputs": [
    {
     "name": "stdout",
     "output_type": "stream",
     "text": [
      "/home/benjamin.heasly@gmail.com/toolboxes/EJLFigureReproduction/t_rgcNaturalScenesFigure2.m\n"
     ]
    }
   ],
   "source": [
    "% We can also see that the new toolbox is on the Matlab path.\n",
    "which('t_rgcNaturalScenesFigure2')"
   ]
  },
  {
   "cell_type": "code",
   "execution_count": null,
   "metadata": {
    "collapsed": true
   },
   "outputs": [],
   "source": [
    "% That's the basics.\n",
    "\n",
    "% Read on for a bit more about how the Toolbox Toolbox works."
   ]
  },
  {
   "cell_type": "code",
   "execution_count": 47,
   "metadata": {
    "collapsed": false
   },
   "outputs": [
    {
     "name": "stdout",
     "output_type": "stream",
     "text": [
      "config = \n",
      "\n",
      "1x4 struct array with fields:\n",
      "\n",
      "    name\n",
      "    ref\n",
      "    type\n",
      "    url\n",
      "\n",
      "\n",
      "configPath =\n",
      "\n",
      "~/toolbox-config.json\n"
     ]
    }
   ],
   "source": [
    "% The Toolbox Toolbox relies on a JSON config file to tell it which\n",
    "% toolboxes you want and where to locate them.  The default config \n",
    "% file is located at ~/toolbox-config.json.  You could specify\n",
    "% a different file if you wanted.\n",
    "\n",
    "% The Toolbox Toolbox handles all the reading and writing of the\n",
    "% JSON and presents it to you as a Matlab struct array:\n",
    "[config, configPath] = tbReadConfig()"
   ]
  },
  {
   "cell_type": "code",
   "execution_count": 48,
   "metadata": {
    "collapsed": false
   },
   "outputs": [
    {
     "name": "stdout",
     "output_type": "stream",
     "text": [
      "name: 'isetbio'\n",
      "     ref: [1x0 char]\n",
      "    type: 'git'\n",
      "     url: 'https://github.com/isetbio/isetbio.git'\n",
      "\n",
      "    name: 'RemoteDataToolbox'\n",
      "     ref: [1x0 char]\n",
      "    type: 'git'\n",
      "     url: 'https://github.com/isetbio/RemoteDataToolbox.git'\n",
      "\n",
      "    name: 'notebooks'\n",
      "     ref: [1x0 char]\n",
      "    type: 'git'\n",
      "     url: 'https://github.com/isetbio/notebooks.git'\n",
      "\n",
      "    name: 'EJLFigureReproduction'\n",
      "     ref: [1x0 char]\n",
      "    type: 'git'\n",
      "     url: 'https://github.com/isetbio/EJLFigureReproduction.git'\n"
     ]
    }
   ],
   "source": [
    "% If we dig into the config struct, we can see each of our toolboxes,\n",
    "% including the new one we just added.\n",
    "for tt = 1:numel(config)\n",
    "    disp(config(tt))\n",
    "end"
   ]
  },
  {
   "cell_type": "code",
   "execution_count": 49,
   "metadata": {
    "collapsed": false
   },
   "outputs": [
    {
     "name": "stdout",
     "output_type": "stream",
     "text": [
      "[\n",
      "\t{\n",
      "\t\t\"name\": \"isetbio\",\n",
      "\t\t\"ref\": \"\",\n",
      "\t\t\"type\": \"git\",\n",
      "\t\t\"url\": \"https://github.com/isetbio/isetbio.git\"\n",
      "\t},\n",
      "\t{\n",
      "\t\t\"name\": \"RemoteDataToolbox\",\n",
      "\t\t\"ref\": \"\",\n",
      "\t\t\"type\": \"git\",\n",
      "\t\t\"url\": \"https://github.com/isetbio/RemoteDataToolbox.git\"\n",
      "\t},\n",
      "\t{\n",
      "\t\t\"name\": \"notebooks\",\n",
      "\t\t\"ref\": \"\",\n",
      "\t\t\"type\": \"git\",\n",
      "\t\t\"url\": \"https://github.com/isetbio/notebooks.git\"\n",
      "\t},\n",
      "\t{\n",
      "\t\t\"name\": \"EJLFigureReproduction\",\n",
      "\t\t\"ref\": \"\",\n",
      "\t\t\"type\": \"git\",\n",
      "\t\t\"url\": \"https://github.com/isetbio/EJLFigureReproduction.git\"\n",
      "\t}\n",
      "]\n"
     ]
    }
   ],
   "source": [
    "% The struct array looks a lot like the JSON config file itself.\n",
    "system('cat ~/toolbox-config.json');"
   ]
  },
  {
   "cell_type": "code",
   "execution_count": null,
   "metadata": {
    "collapsed": true
   },
   "outputs": [],
   "source": [
    "% When you call tbDeployToolboxes(), the Toolbox Toolbox loads the\n",
    "% config file and looks at each element.  \n",
    "\n",
    "% For each element, if there is already a folder with the same name as\n",
    "% the toolbox name, it does a \"git pull\" in that folder.  If not, it\n",
    "% does a \"git clone\" to create the folder and obtain the toolbox.\n",
    "\n",
    "% The Toolbox Toolbox checks for toolboxes in two places.  We saw these\n",
    "% above:\n",
    "%   /srv/toolbox-toolbox/toolboxes\n",
    "%   ~/toolboxes\n",
    "% The first is good for shared toolboxes installed by an administrator.\n",
    "% The second is good for any other toolboxes.\n",
    "\n",
    "% You could specify alternative folders if you wanted.\n",
    "\n",
    "% Finally, the Toolbox Toolbox adds these folders and subfolders to \n",
    "% the Matlab path.  By default, it just appends to the existing path.\n",
    "% It can also clear the path before hand and add toolboxes fresh.  \n",
    "% This would be good if you wanted to be sure that your Matlab path \n",
    "% were in a consistent state."
   ]
  },
  {
   "cell_type": "code",
   "execution_count": null,
   "metadata": {
    "collapsed": true
   },
   "outputs": [],
   "source": [
    "% When you call tbAddToolbox(), the Toolbox Toolbox adds a new element\n",
    "% to the config struct array and JSON config file.  Then it deploys the\n",
    "% new toolbox as above."
   ]
  },
  {
   "cell_type": "code",
   "execution_count": null,
   "metadata": {
    "collapsed": true
   },
   "outputs": [],
   "source": [
    "% Currently, a \"toolbox\" is synonymous with a Git repository.  That's\n",
    "% why all the toolboxes have the same type, \"git\".\n",
    "\n",
    "% When the Toolbox Toolbox graduates to its own repository and \n",
    "% development line, it will be natural to add other toolbox types.  \n",
    "% For example:\n",
    "%  - \"file-exchange\" -- deploy files from the Mathworks Central \n",
    "%    File Exchange.\n",
    "%  - \"built-in\" -- Include or exclude specific Matlab built-in \n",
    "%    toolboxes from the Matlab path.\n",
    "%  - \"svn\", \"mercurial\", etc."
   ]
  }
 ],
 "metadata": {
  "kernelspec": {
   "display_name": "Matlab",
   "language": "matlab",
   "name": "matlab"
  },
  "language_info": {
   "codemirror_mode": "octave",
   "file_extension": ".m",
   "help_links": [
    {
     "text": "MetaKernel Magics",
     "url": "https://github.com/calysto/metakernel/blob/master/metakernel/magics/README.md"
    }
   ],
   "mimetype": "text/x-octave",
   "name": "matlab",
   "version": "0.10.1"
  }
 },
 "nbformat": 4,
 "nbformat_minor": 0
}
