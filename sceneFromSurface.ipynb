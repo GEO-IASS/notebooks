{
 "cells": [
  {
   "cell_type": "code",
   "execution_count": null,
   "metadata": {
    "collapsed": true
   },
   "outputs": [],
   "source": [
    "% Show how to create a scene starting with surface\n",
    "% reflectances and an illuminant.\n",
    "%\n",
    "% DHB/BW\n"
   ]
  },
  {
   "cell_type": "code",
   "execution_count": 1,
   "metadata": {
    "collapsed": true
   },
   "outputs": [],
   "source": [
    "%% Initialize the ISETBIO work environment\n",
    "ieInit;"
   ]
  },
  {
   "cell_type": "code",
   "execution_count": 2,
   "metadata": {
    "collapsed": true
   },
   "outputs": [],
   "source": [
    "%% Define wavelength spacing we will use\n",
    "% Wavelength in nm\n",
    "dwave = 10;\n",
    "wave = 400:dwave:700;  "
   ]
  },
  {
   "cell_type": "code",
   "execution_count": 3,
   "metadata": {
    "collapsed": false
   },
   "outputs": [
    {
     "data": {
      "image/png": "[encoded data removed]",
      "text/plain": [
       "<IPython.core.display.Image object>"
      ]
     },
     "metadata": {},
     "output_type": "display_data"
    },
    {
     "name": "stdout",
     "output_type": "stream",
     "text": [
      "[\bWarning: MATLAB has disabled some advanced graphics rendering features by\n",
      "switching to software OpenGL. For more information, click <a\n",
      "href=\"matlab:opengl('problems')\">here</a>.]\b\n"
     ]
    }
   ],
   "source": [
    "%% Read in a file with MCC reflectances\n",
    "%\n",
    "% The reflectances could be anything. For this example we load in the\n",
    "% Macbeth Color Checker Chart.  \n",
    "% This function returns a 31 x 24 matrix, which is length(wave) x 24 patches\n",
    "macbethReflectance = macbethReadReflectance(wave);\n",
    "\n",
    "% Convert the reflectances to a row x col x nwave matrix\n",
    "macbethReflectance = reshape(macbethReflectance',4,6,31);\n",
    "\n",
    "% Expand the image so that each point becomes a patch\n",
    "patchSize = 12;\n",
    "macbethReflectance = imageIncreaseImageRGBSize(macbethReflectance,patchSize);\n",
    "\n",
    "% Look at the result using imageSPD\n",
    "% This utility renders spectral data into a window\n",
    "imageSPD(macbethReflectance);"
   ]
  },
  {
   "cell_type": "code",
   "execution_count": 6,
   "metadata": {
    "collapsed": false
   },
   "outputs": [
    {
     "name": "stdout",
     "output_type": "stream",
     "text": [
      "lum =\n",
      "\n",
      "   7.2158e+06\n"
     ]
    }
   ],
   "source": [
    "%% Read in a D65 spectrum\n",
    "illEnergy = ieReadSpectra('D65',wave); \n",
    "\n",
    "% Scale it so that it luminance is 100 cd/m2.\n",
    "lum = ieLuminanceFromEnergy(illEnergy',wave)\n",
    "illEnergy = 100*illEnergy/lum;\n"
   ]
  },
  {
   "cell_type": "code",
   "execution_count": 7,
   "metadata": {
    "collapsed": true
   },
   "outputs": [],
   "source": [
    "%% Create an empty scene where we will place the radiance data and illuminant\n",
    "scene = sceneCreate('default');\n",
    "scene = sceneClearData(scene);\n"
   ]
  },
  {
   "cell_type": "code",
   "execution_count": 9,
   "metadata": {
    "collapsed": false
   },
   "outputs": [],
   "source": [
    "%% Compute the scene spectral radiance given the reflectance and illuminant\n",
    "\n",
    "nRows = size(macbethReflectance,1); nCols = size(macbethReflectance,2);\n",
    "for i = 1:nRows\n",
    "    for j = 1:nCols\n",
    "        radianceEnergy(i,j,:) = illEnergy.*squeeze(macbethReflectance(i,j,:));\n",
    "    end\n",
    "end\n",
    "radiancePhotons = Energy2Quanta(wave,radianceEnergy);\n"
   ]
  },
  {
   "cell_type": "code",
   "execution_count": 11,
   "metadata": {
    "collapsed": false
   },
   "outputs": [],
   "source": [
    "%% Put in the photons and the illuminant\n",
    "%\n",
    "% This now makes the implied surface reflectance \n",
    "% what we started with, as we check a little further\n",
    "% down.\n",
    "scene = sceneSet(scene,'photons',radiancePhotons);\n",
    "scene = sceneSet(scene,'illuminant energy',illEnergy);"
   ]
  },
  {
   "cell_type": "code",
   "execution_count": 12,
   "metadata": {
    "collapsed": false
   },
   "outputs": [
    {
     "data": {
      "image/png": "[encoded data removed]",
      "text/plain": [
       "<IPython.core.display.Image object>"
      ]
     },
     "metadata": {},
     "output_type": "display_data"
    }
   ],
   "source": [
    "%% Look at the image contained in our beautiful scene \n",
    "%\n",
    "% This will replace what was in the first figure we had\n",
    "% and should look the same.\n",
    "sceneShowImage(scene);"
   ]
  },
  {
   "cell_type": "code",
   "execution_count": null,
   "metadata": {
    "collapsed": true
   },
   "outputs": [],
   "source": []
  }
 ],
 "metadata": {
  "kernelspec": {
   "display_name": "Matlab",
   "language": "matlab",
   "name": "matlab"
  },
  "language_info": {
   "file_extension": ".m",
   "help_links": [
    {
     "text": "MetaKernel Magics",
     "url": "https://github.com/calysto/metakernel/blob/master/metakernel/magics/README.md"
    }
   ],
   "mimetype": "text/x-octave",
   "name": "matlab",
   "version": "0.9.5"
  }
 },
 "nbformat": 4,
 "nbformat_minor": 0
}
